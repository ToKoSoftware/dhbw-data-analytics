{
 "cells": [
  {
   "cell_type": "markdown",
   "metadata": {
    "collapsed": false
   },
   "source": [
    "# The Simpsons"
   ]
  },
  {
   "cell_type": "markdown",
   "metadata": {
    "collapsed": false
   },
   "source": [
    "## Preparations"
   ]
  },
  {
   "cell_type": "markdown",
   "metadata": {
    "collapsed": false,
    "pycharm": {
     "name": "#%% md\n"
    }
   },
   "source": [
    "### Import libraries\n",
    "\n",
    "- Tensorflow: Machine Learning Library\n",
    "- Matplotlib: Plotting (math) library"
   ]
  },
  {
   "cell_type": "code",
   "execution_count": 131,
   "metadata": {
    "collapsed": true,
    "pycharm": {
     "name": "#%%\n"
    }
   },
   "outputs": [],
   "source": [
    "import tensorflow as tf\n",
    "from matplotlib import image\n",
    "from tensorflow.keras import datasets, layers, models, Sequential\n",
    "import matplotlib.pyplot as plt\n",
    "import numpy as np\n",
    "from PIL import Image\n",
    "import itertools\n",
    "import glob\n",
    "from sklearn import preprocessing, metrics"
   ]
  },
  {
   "cell_type": "code",
   "execution_count": 132,
   "metadata": {
    "collapsed": false,
    "pycharm": {
     "name": "#%%\n"
    }
   },
   "outputs": [],
   "source": [
    "import warnings\n",
    "\n",
    "#warnings.filterwarnings('ignore')"
   ]
  },
  {
   "cell_type": "markdown",
   "metadata": {
    "collapsed": false,
    "pycharm": {
     "name": "#%% md\n"
    }
   },
   "source": [
    "### Select Characters\n",
    "\n",
    "Create a list of characters that we want to recognise"
   ]
  },
  {
   "cell_type": "code",
   "execution_count": 133,
   "metadata": {
    "collapsed": false,
    "pycharm": {
     "name": "#%%\n"
    }
   },
   "outputs": [],
   "source": [
    "characters = [\n",
    "    \"abraham_grampa_simpson\",\n",
    "    # \"agnes_skinner\", only ~50 images\n",
    "    \"apu_nahasapeemapetilon\",\n",
    "    # \"barney_gumble\", only ~100 images\n",
    "    \"bart_simpson\",\n",
    "    # \"carl_carlson\", only ~100 images\n",
    "    \"charles_montgomery_burns\",\n",
    "    \"chief_wiggum\",\n",
    "    # \"cletus_spuckler\", only ~50 images\n",
    "    \"comic_book_guy\",\n",
    "    # \"disco_stu\", only 8 (!) images\n",
    "    \"edna_krabappel\",\n",
    "    # \"fat_tony\", only ~30 images\n",
    "    # \"gil\", only ~30 images\n",
    "    #\"groundskeeper_willie\", only ~120 images\n",
    "    \"homer_simpson\",\n",
    "    \"kent_brockman\",\n",
    "    \"krusty_the_clown\",\n",
    "    \"lenny_leonard\",\n",
    "    # \"lionel_hutz\", only 3 (!!!) images\n",
    "    \"lisa_simpson\",\n",
    "    # \"maggie_simpson\", only ~120 images\n",
    "    \"marge_simpson\",\n",
    "    # \"martin_prince\", only ~120 images\n",
    "    \"mayor_quimby\",\n",
    "    \"milhouse_van_houten\",\n",
    "    # \"miss_hoover\", only ~20 images\n",
    "    \"moe_szyslak\",\n",
    "    \"ned_flanders\",\n",
    "    \"nelson_muntz\",\n",
    "    # \"otto_mann\", only ~30 images\n",
    "    # \"patty_bouvier\", only ~70 images\n",
    "    \"principal_skinner\",\n",
    "    # \"professor_john_frink\", only ~70 images\n",
    "    # \"rainier_wolfcastle\", only ~50 images\n",
    "    # \"ralph_wiggum\", only ~90 images\n",
    "    # \"selma_bouvier\", only ~100 images\n",
    "    \"sideshow_bob\",\n",
    "    # \"sideshow_mel\", only ~40 images\n",
    "    # \"snake_jailbird\", only ~50 images\n",
    "    # \"troy_mcclure\", only 8 (!) images\n",
    "    # \"waylon_smithers\", only ~180 images\n",
    "]"
   ]
  },
  {
   "cell_type": "code",
   "execution_count": 134,
   "metadata": {},
   "outputs": [
    {
     "name": "stdout",
     "output_type": "stream",
     "text": [
      "['charles_montgomery_burns', 'lisa_simpson', 'marge_simpson', 'sideshow_bob', 'chief_wiggum']\n"
     ]
    }
   ],
   "source": [
    "#Randomly pick characters for testing\n",
    "import random\n",
    "\n",
    "number_of_characters = 5\n",
    "\n",
    "selected_characters = random.sample(characters, number_of_characters)\n",
    "print(selected_characters)"
   ]
  },
  {
   "cell_type": "markdown",
   "metadata": {},
   "source": [
    "## Labeling for CNN"
   ]
  },
  {
   "cell_type": "code",
   "execution_count": 135,
   "metadata": {},
   "outputs": [
    {
     "data": {
      "text/plain": [
       "LabelEncoder()"
      ]
     },
     "execution_count": 135,
     "metadata": {},
     "output_type": "execute_result"
    }
   ],
   "source": [
    "encoded_labels = preprocessing.LabelEncoder()\n",
    "encoded_labels.fit(selected_characters)"
   ]
  },
  {
   "cell_type": "markdown",
   "metadata": {
    "collapsed": false,
    "pycharm": {
     "name": "#%% md\n"
    }
   },
   "source": [
    "### Directories"
   ]
  },
  {
   "cell_type": "code",
   "execution_count": 136,
   "metadata": {
    "collapsed": false,
    "pycharm": {
     "name": "#%%\n"
    }
   },
   "outputs": [],
   "source": [
    "directories = {\n",
    "    \"data_directory\": \"./data/archive/\",\n",
    "}\n",
    "\n",
    "directories[\"annotation_file\"] = directories[\"data_directory\"] + \"annotation.txt\"\n",
    "directories[\"dataset\"] = directories[\"data_directory\"] + \"simpsons_dataset/\"\n",
    "directories[\"testset\"] = directories[\"data_directory\"] + \"kaggle_simpson_testset/kaggle_simpson_testset/\""
   ]
  },
  {
   "cell_type": "markdown",
   "metadata": {
    "collapsed": false,
    "pycharm": {
     "name": "#%% md\n"
    }
   },
   "source": [
    "## Previewing the characters"
   ]
  },
  {
   "cell_type": "code",
   "execution_count": 137,
   "metadata": {
    "collapsed": false,
    "pycharm": {
     "name": "#%%\n"
    }
   },
   "outputs": [
    {
     "data": {
      "text/plain": [
       "<Figure size 720x720 with 0 Axes>"
      ]
     },
     "execution_count": 137,
     "metadata": {},
     "output_type": "execute_result"
    },
    {
     "data": {
      "text/plain": [
       "<AxesSubplot:>"
      ]
     },
     "execution_count": 137,
     "metadata": {},
     "output_type": "execute_result"
    },
    {
     "data": {
      "text/plain": [
       "([], [])"
      ]
     },
     "execution_count": 137,
     "metadata": {},
     "output_type": "execute_result"
    },
    {
     "data": {
      "text/plain": [
       "([], [])"
      ]
     },
     "execution_count": 137,
     "metadata": {},
     "output_type": "execute_result"
    },
    {
     "data": {
      "text/plain": [
       "<matplotlib.image.AxesImage at 0x7f5073462ee0>"
      ]
     },
     "execution_count": 137,
     "metadata": {},
     "output_type": "execute_result"
    },
    {
     "data": {
      "text/plain": [
       "Text(0.5, 0, 'charles_montgomery_burns')"
      ]
     },
     "execution_count": 137,
     "metadata": {},
     "output_type": "execute_result"
    },
    {
     "data": {
      "text/plain": [
       "<AxesSubplot:>"
      ]
     },
     "execution_count": 137,
     "metadata": {},
     "output_type": "execute_result"
    },
    {
     "data": {
      "text/plain": [
       "([], [])"
      ]
     },
     "execution_count": 137,
     "metadata": {},
     "output_type": "execute_result"
    },
    {
     "data": {
      "text/plain": [
       "([], [])"
      ]
     },
     "execution_count": 137,
     "metadata": {},
     "output_type": "execute_result"
    },
    {
     "data": {
      "text/plain": [
       "<matplotlib.image.AxesImage at 0x7f50794605e0>"
      ]
     },
     "execution_count": 137,
     "metadata": {},
     "output_type": "execute_result"
    },
    {
     "data": {
      "text/plain": [
       "Text(0.5, 0, 'lisa_simpson')"
      ]
     },
     "execution_count": 137,
     "metadata": {},
     "output_type": "execute_result"
    },
    {
     "data": {
      "text/plain": [
       "<AxesSubplot:>"
      ]
     },
     "execution_count": 137,
     "metadata": {},
     "output_type": "execute_result"
    },
    {
     "data": {
      "text/plain": [
       "([], [])"
      ]
     },
     "execution_count": 137,
     "metadata": {},
     "output_type": "execute_result"
    },
    {
     "data": {
      "text/plain": [
       "([], [])"
      ]
     },
     "execution_count": 137,
     "metadata": {},
     "output_type": "execute_result"
    },
    {
     "data": {
      "text/plain": [
       "<matplotlib.image.AxesImage at 0x7f507940abb0>"
      ]
     },
     "execution_count": 137,
     "metadata": {},
     "output_type": "execute_result"
    },
    {
     "data": {
      "text/plain": [
       "Text(0.5, 0, 'marge_simpson')"
      ]
     },
     "execution_count": 137,
     "metadata": {},
     "output_type": "execute_result"
    },
    {
     "data": {
      "text/plain": [
       "<AxesSubplot:>"
      ]
     },
     "execution_count": 137,
     "metadata": {},
     "output_type": "execute_result"
    },
    {
     "data": {
      "text/plain": [
       "([], [])"
      ]
     },
     "execution_count": 137,
     "metadata": {},
     "output_type": "execute_result"
    },
    {
     "data": {
      "text/plain": [
       "([], [])"
      ]
     },
     "execution_count": 137,
     "metadata": {},
     "output_type": "execute_result"
    },
    {
     "data": {
      "text/plain": [
       "<matplotlib.image.AxesImage at 0x7f50793c6340>"
      ]
     },
     "execution_count": 137,
     "metadata": {},
     "output_type": "execute_result"
    },
    {
     "data": {
      "text/plain": [
       "Text(0.5, 0, 'sideshow_bob')"
      ]
     },
     "execution_count": 137,
     "metadata": {},
     "output_type": "execute_result"
    },
    {
     "data": {
      "text/plain": [
       "<AxesSubplot:>"
      ]
     },
     "execution_count": 137,
     "metadata": {},
     "output_type": "execute_result"
    },
    {
     "data": {
      "text/plain": [
       "([], [])"
      ]
     },
     "execution_count": 137,
     "metadata": {},
     "output_type": "execute_result"
    },
    {
     "data": {
      "text/plain": [
       "([], [])"
      ]
     },
     "execution_count": 137,
     "metadata": {},
     "output_type": "execute_result"
    },
    {
     "data": {
      "text/plain": [
       "<matplotlib.image.AxesImage at 0x7f50793ffb80>"
      ]
     },
     "execution_count": 137,
     "metadata": {},
     "output_type": "execute_result"
    },
    {
     "data": {
      "text/plain": [
       "Text(0.5, 0, 'chief_wiggum')"
      ]
     },
     "execution_count": 137,
     "metadata": {},
     "output_type": "execute_result"
    },
    {
     "data": {
      "image/png": "[encoded data removed]",
      "text/plain": [
       "<Figure size 720x720 with 5 Axes>"
      ]
     },
     "metadata": {},
     "output_type": "display_data"
    }
   ],
   "source": [
    "plt.figure(figsize=(10, 10))\n",
    "for iterator, character_name in enumerate(selected_characters):\n",
    "    plt.subplot(5, 5, iterator + 1)\n",
    "    plt.xticks([])\n",
    "    plt.yticks([])\n",
    "    plt.grid(False)\n",
    "    img = image.imread(directories[\"dataset\"] + character_name + \"/pic_0000.jpg\")\n",
    "    plt.imshow(img)\n",
    "    plt.xlabel(character_name)\n",
    "plt.show()"
   ]
  },
  {
   "cell_type": "markdown",
   "metadata": {
    "collapsed": false
   },
   "source": [
    "## Resizing Images\n",
    "For testing this code creates the same as above but resized to the standard_resolution variable"
   ]
  },
  {
   "cell_type": "code",
   "execution_count": 138,
   "metadata": {
    "collapsed": false,
    "pycharm": {
     "name": "#%%\n"
    }
   },
   "outputs": [],
   "source": [
    "standard_resolution = 352\n",
    "resampling_algorithm = Image.LANCZOS  # todo decide on resampling algorithm"
   ]
  },
  {
   "cell_type": "code",
   "execution_count": 139,
   "metadata": {
    "collapsed": false,
    "pycharm": {
     "name": "#%%\n"
    }
   },
   "outputs": [],
   "source": [
    "def get_resized_image(image_path):\n",
    "    img = Image.open(image_path)\n",
    "    img = img.resize(size=(standard_resolution, standard_resolution),\n",
    "                     resample=resampling_algorithm)\n",
    "    img = np.asarray(img)  #store im as numpy array\n",
    "    # shape of image is ([128x(r,g,b)], [128x(r,g,b)])\n",
    "    img = np.array(img)\n",
    "    return img"
   ]
  },
  {
   "cell_type": "code",
   "execution_count": 140,
   "metadata": {
    "collapsed": false,
    "pycharm": {
     "name": "#%%\n"
    }
   },
   "outputs": [
    {
     "data": {
      "text/plain": [
       "<Figure size 720x720 with 0 Axes>"
      ]
     },
     "execution_count": 140,
     "metadata": {},
     "output_type": "execute_result"
    },
    {
     "data": {
      "text/plain": [
       "<AxesSubplot:>"
      ]
     },
     "execution_count": 140,
     "metadata": {},
     "output_type": "execute_result"
    },
    {
     "data": {
      "text/plain": [
       "([], [])"
      ]
     },
     "execution_count": 140,
     "metadata": {},
     "output_type": "execute_result"
    },
    {
     "data": {
      "text/plain": [
       "([], [])"
      ]
     },
     "execution_count": 140,
     "metadata": {},
     "output_type": "execute_result"
    },
    {
     "data": {
      "text/plain": [
       "<matplotlib.image.AxesImage at 0x7f50663a95b0>"
      ]
     },
     "execution_count": 140,
     "metadata": {},
     "output_type": "execute_result"
    },
    {
     "data": {
      "text/plain": [
       "Text(0.5, 0, 'charles_montgomery_burns')"
      ]
     },
     "execution_count": 140,
     "metadata": {},
     "output_type": "execute_result"
    },
    {
     "data": {
      "text/plain": [
       "<AxesSubplot:>"
      ]
     },
     "execution_count": 140,
     "metadata": {},
     "output_type": "execute_result"
    },
    {
     "data": {
      "text/plain": [
       "([], [])"
      ]
     },
     "execution_count": 140,
     "metadata": {},
     "output_type": "execute_result"
    },
    {
     "data": {
      "text/plain": [
       "([], [])"
      ]
     },
     "execution_count": 140,
     "metadata": {},
     "output_type": "execute_result"
    },
    {
     "data": {
      "text/plain": [
       "<matplotlib.image.AxesImage at 0x7f507936b850>"
      ]
     },
     "execution_count": 140,
     "metadata": {},
     "output_type": "execute_result"
    },
    {
     "data": {
      "text/plain": [
       "Text(0.5, 0, 'lisa_simpson')"
      ]
     },
     "execution_count": 140,
     "metadata": {},
     "output_type": "execute_result"
    },
    {
     "data": {
      "text/plain": [
       "<AxesSubplot:>"
      ]
     },
     "execution_count": 140,
     "metadata": {},
     "output_type": "execute_result"
    },
    {
     "data": {
      "text/plain": [
       "([], [])"
      ]
     },
     "execution_count": 140,
     "metadata": {},
     "output_type": "execute_result"
    },
    {
     "data": {
      "text/plain": [
       "([], [])"
      ]
     },
     "execution_count": 140,
     "metadata": {},
     "output_type": "execute_result"
    },
    {
     "data": {
      "text/plain": [
       "<matplotlib.image.AxesImage at 0x7f5079307fd0>"
      ]
     },
     "execution_count": 140,
     "metadata": {},
     "output_type": "execute_result"
    },
    {
     "data": {
      "text/plain": [
       "Text(0.5, 0, 'marge_simpson')"
      ]
     },
     "execution_count": 140,
     "metadata": {},
     "output_type": "execute_result"
    },
    {
     "data": {
      "text/plain": [
       "<AxesSubplot:>"
      ]
     },
     "execution_count": 140,
     "metadata": {},
     "output_type": "execute_result"
    },
    {
     "data": {
      "text/plain": [
       "([], [])"
      ]
     },
     "execution_count": 140,
     "metadata": {},
     "output_type": "execute_result"
    },
    {
     "data": {
      "text/plain": [
       "([], [])"
      ]
     },
     "execution_count": 140,
     "metadata": {},
     "output_type": "execute_result"
    },
    {
     "data": {
      "text/plain": [
       "<matplotlib.image.AxesImage at 0x7f50792d5a30>"
      ]
     },
     "execution_count": 140,
     "metadata": {},
     "output_type": "execute_result"
    },
    {
     "data": {
      "text/plain": [
       "Text(0.5, 0, 'sideshow_bob')"
      ]
     },
     "execution_count": 140,
     "metadata": {},
     "output_type": "execute_result"
    },
    {
     "data": {
      "text/plain": [
       "<AxesSubplot:>"
      ]
     },
     "execution_count": 140,
     "metadata": {},
     "output_type": "execute_result"
    },
    {
     "data": {
      "text/plain": [
       "([], [])"
      ]
     },
     "execution_count": 140,
     "metadata": {},
     "output_type": "execute_result"
    },
    {
     "data": {
      "text/plain": [
       "([], [])"
      ]
     },
     "execution_count": 140,
     "metadata": {},
     "output_type": "execute_result"
    },
    {
     "data": {
      "text/plain": [
       "<matplotlib.image.AxesImage at 0x7f5079283d00>"
      ]
     },
     "execution_count": 140,
     "metadata": {},
     "output_type": "execute_result"
    },
    {
     "data": {
      "text/plain": [
       "Text(0.5, 0, 'chief_wiggum')"
      ]
     },
     "execution_count": 140,
     "metadata": {},
     "output_type": "execute_result"
    },
    {
     "data": {
      "image/png": "[encoded data removed]",
      "text/plain": [
       "<Figure size 720x720 with 5 Axes>"
      ]
     },
     "metadata": {},
     "output_type": "display_data"
    }
   ],
   "source": [
    "plt.figure(figsize=(10, 10))\n",
    "for iterator, character_name in enumerate(selected_characters):\n",
    "    plt.subplot(5, 5, iterator + 1)\n",
    "    plt.xticks([])\n",
    "    plt.yticks([])\n",
    "    plt.grid(False)\n",
    "\n",
    "    plt.imshow(get_resized_image(directories[\"dataset\"] + character_name + \"/pic_0000.jpg\"))\n",
    "    plt.xlabel(character_name)\n",
    "plt.show()"
   ]
  },
  {
   "cell_type": "markdown",
   "metadata": {
    "collapsed": false
   },
   "source": [
    "## Load files and split into test data"
   ]
  },
  {
   "cell_type": "code",
   "execution_count": 141,
   "metadata": {
    "collapsed": false,
    "pycharm": {
     "name": "#%%\n"
    }
   },
   "outputs": [],
   "source": [
    "test_factor = 0.2  # determine what percentage of each character's images should be used for testing"
   ]
  },
  {
   "cell_type": "code",
   "execution_count": 142,
   "metadata": {},
   "outputs": [
    {
     "name": "stdout",
     "output_type": "stream",
     "text": [
      "['charles_montgomery_burns', 'lisa_simpson', 'marge_simpson', 'sideshow_bob', 'chief_wiggum']\n"
     ]
    }
   ],
   "source": [
    "print(selected_characters)"
   ]
  },
  {
   "cell_type": "code",
   "execution_count": 143,
   "metadata": {
    "collapsed": false,
    "pycharm": {
     "name": "#%%\n"
    }
   },
   "outputs": [
    {
     "name": "stdout",
     "output_type": "stream",
     "text": [
      "Loading Character:charles_montgomery_burns (label number 0)\n",
      "\n",
      "[ 1192 / 1193 ]./data/archive/simpsons_dataset/charles_montgomery_burns/pic_0333.jpg 1193 ]./data/archive/simpsons_dataset/charles_montgomery_burns/pic_0851.jpg\n",
      "Loading Character:lisa_simpson (label number 2)\n",
      "\n",
      "[ 1353 / 1354 ]./data/archive/simpsons_dataset/lisa_simpson/pic_0333.jpg/data/archive/simpsons_dataset/lisa_simpson/pic_0304.jpg\n",
      "Loading Character:marge_simpson (label number 3)\n",
      "\n",
      "[ 1290 / 1291 ]./data/archive/simpsons_dataset/marge_simpson/pic_0333.jpg\n",
      "Loading Character:sideshow_bob (label number 4)\n",
      "\n",
      "[ 876 / 877 ]./data/archive/simpsons_dataset/sideshow_bob/pic_0333.jpg]./data/archive/simpsons_dataset/sideshow_bob/pic_0264.jpg\n",
      "Loading Character:chief_wiggum (label number 1)\n",
      "\n",
      "[ 985 / 986 ]./data/archive/simpsons_dataset/chief_wiggum/pic_0333.jpg\n"
     ]
    }
   ],
   "source": [
    "training_images = []  # the images as rgb values\n",
    "training_labels = []  # the corresponding character name\n",
    "\n",
    "test_images = []  # the test images as rgb values\n",
    "test_labels = []  # the corresponding character name\n",
    "\n",
    "for character_name in selected_characters:  #loop over all selected characters\n",
    "\n",
    "    current_character_path = directories[\"dataset\"] + character_name + \"/\"\n",
    "    current_character_paths_list = glob.glob(current_character_path + \"*.jpg\")\n",
    "\n",
    "    # calculate how many files are test data and how many files are training data\n",
    "    current_character_picture_count = len(current_character_paths_list)\n",
    "    current_character_test_count = round(current_character_picture_count * test_factor)\n",
    "    current_character_training_count = round(current_character_picture_count * (1 - test_factor))\n",
    "    current_image_position = 0\n",
    "\n",
    "    encoded_character_label = encoded_labels.transform([character_name])\n",
    "    print(\"Loading Character:\" + character_name + \" (label number \" + str(encoded_character_label[0]) + \")\")\n",
    "    print(\"\", end='\\n')\n",
    "\n",
    "    for current_image_position, current_character_picture_path in enumerate(\n",
    "            current_character_paths_list):  #loop over all files ending in .jpg in the current folder\n",
    "        print(\"[\", current_image_position, \"/\", current_character_picture_count, \"]\" + current_character_picture_path,\n",
    "              end='\\r')\n",
    "\n",
    "        current_character_picture = get_resized_image(current_character_picture_path)  # load picture\n",
    "        rand_int = random.randint(1,round(1/test_factor)) #random factor to decide if picture is training or test data\n",
    "        if rand_int == 1:  # if rand_int is 1, the picture is added to the test_images\n",
    "            test_images.append(current_character_picture)\n",
    "            test_labels.append(encoded_character_label)\n",
    "        else:\n",
    "            training_images.append(current_character_picture)\n",
    "            training_labels.append(encoded_character_label)\n",
    "    print(\"\", end='\\n')\n",
    "\n",
    "training_images = np.array(training_images)\n",
    "training_labels = np.array(training_labels)\n",
    "test_labels = np.array(test_labels)\n",
    "test_images = np.array(test_images)"
   ]
  },
  {
   "cell_type": "code",
   "execution_count": 144,
   "metadata": {
    "collapsed": false,
    "pycharm": {
     "name": "#%%\n"
    }
   },
   "outputs": [
    {
     "data": {
      "text/plain": [
       "(352, 352, 3)"
      ]
     },
     "execution_count": 144,
     "metadata": {},
     "output_type": "execute_result"
    },
    {
     "data": {
      "text/plain": [
       "4583"
      ]
     },
     "execution_count": 144,
     "metadata": {},
     "output_type": "execute_result"
    },
    {
     "data": {
      "text/plain": [
       "1118"
      ]
     },
     "execution_count": 144,
     "metadata": {},
     "output_type": "execute_result"
    }
   ],
   "source": [
    "training_images[0].shape\n",
    "len(training_images)\n",
    "len(test_images)"
   ]
  },
  {
   "cell_type": "markdown",
   "metadata": {
    "collapsed": false
   },
   "source": [
    "## Create Convolutional Neuronal Network"
   ]
  },
  {
   "cell_type": "code",
   "execution_count": 145,
   "metadata": {
    "collapsed": false,
    "pycharm": {
     "name": "#%%\n"
    }
   },
   "outputs": [],
   "source": [
    "model = Sequential([\n",
    "    layers.Rescaling(1. / 255, input_shape=(standard_resolution, standard_resolution, 3)),\n",
    "    layers.Conv2D(16, 3, padding='same', activation='relu'),\n",
    "    layers.MaxPooling2D(),\n",
    "    layers.Conv2D(32, 3, padding='same', activation='relu'),\n",
    "    layers.MaxPooling2D(),\n",
    "    layers.Conv2D(64, 3, padding='same', activation='relu'),\n",
    "    layers.MaxPooling2D(),\n",
    "    layers.Dropout(0.3),\n",
    "    layers.Flatten(),\n",
    "    layers.Dense(32, activation='relu'),\n",
    "    layers.Dense(len(selected_characters), activation='relu')\n",
    "])"
   ]
  },
  {
   "cell_type": "code",
   "execution_count": 146,
   "metadata": {
    "collapsed": false,
    "pycharm": {
     "name": "#%%\n"
    }
   },
   "outputs": [
    {
     "name": "stdout",
     "output_type": "stream",
     "text": [
      "Model: \"sequential_6\"\n",
      "_________________________________________________________________\n",
      "Layer (type)                 Output Shape              Param #   \n",
      "=================================================================\n",
      "rescaling_6 (Rescaling)      (None, 352, 352, 3)       0         \n",
      "_________________________________________________________________\n",
      "conv2d_17 (Conv2D)           (None, 352, 352, 16)      448       \n",
      "_________________________________________________________________\n",
      "max_pooling2d_17 (MaxPooling (None, 176, 176, 16)      0         \n",
      "_________________________________________________________________\n",
      "conv2d_18 (Conv2D)           (None, 176, 176, 32)      4640      \n",
      "_________________________________________________________________\n",
      "max_pooling2d_18 (MaxPooling (None, 88, 88, 32)        0         \n",
      "_________________________________________________________________\n",
      "conv2d_19 (Conv2D)           (None, 88, 88, 64)        18496     \n",
      "_________________________________________________________________\n",
      "max_pooling2d_19 (MaxPooling (None, 44, 44, 64)        0         \n",
      "_________________________________________________________________\n",
      "dropout_7 (Dropout)          (None, 44, 44, 64)        0         \n",
      "_________________________________________________________________\n",
      "flatten_6 (Flatten)          (None, 123904)            0         \n",
      "_________________________________________________________________\n",
      "dense_17 (Dense)             (None, 32)                3964960   \n",
      "_________________________________________________________________\n",
      "dense_18 (Dense)             (None, 5)                 165       \n",
      "=================================================================\n",
      "Total params: 3,988,709\n",
      "Trainable params: 3,988,709\n",
      "Non-trainable params: 0\n",
      "_________________________________________________________________\n"
     ]
    }
   ],
   "source": [
    "model.summary()"
   ]
  },
  {
   "cell_type": "code",
   "execution_count": 147,
   "metadata": {
    "collapsed": false,
    "pycharm": {
     "name": "#%%\n"
    }
   },
   "outputs": [],
   "source": [
    "#from sklearn.preprocessing import LabelEncoder\n",
    "\n",
    "#df[target_col] = LabelEncoder().fit_transform(df[target_col])"
   ]
  },
  {
   "cell_type": "code",
   "execution_count": 148,
   "metadata": {
    "collapsed": false,
    "pycharm": {
     "name": "#%%\n"
    }
   },
   "outputs": [
    {
     "name": "stdout",
     "output_type": "stream",
     "text": [
      "Epoch 1/10\n",
      "144/144 [==============================] - 162s 1s/step - loss: 1.2186 - accuracy: 0.5163 - val_loss: 0.9264 - val_accuracy: 0.6413\n",
      "Epoch 2/10\n",
      "144/144 [==============================] - 163s 1s/step - loss: 0.6059 - accuracy: 0.7888 - val_loss: 0.5419 - val_accuracy: 0.8113\n",
      "Epoch 3/10\n",
      "144/144 [==============================] - 164s 1s/step - loss: 0.3500 - accuracy: 0.8876 - val_loss: 0.4989 - val_accuracy: 0.8327\n",
      "Epoch 4/10\n",
      "144/144 [==============================] - 164s 1s/step - loss: 0.1949 - accuracy: 0.9354 - val_loss: 0.4959 - val_accuracy: 0.8470\n",
      "Epoch 5/10\n",
      "144/144 [==============================] - 163s 1s/step - loss: 0.1061 - accuracy: 0.9677 - val_loss: 0.6117 - val_accuracy: 0.8417\n",
      "Epoch 6/10\n",
      "144/144 [==============================] - 178s 1s/step - loss: 0.0442 - accuracy: 0.9860 - val_loss: 0.8151 - val_accuracy: 0.8301\n",
      "Epoch 7/10\n",
      "144/144 [==============================] - 165s 1s/step - loss: 0.0556 - accuracy: 0.9830 - val_loss: 0.7589 - val_accuracy: 0.8265\n",
      "Epoch 8/10\n",
      "144/144 [==============================] - 169s 1s/step - loss: 0.0210 - accuracy: 0.9939 - val_loss: 0.8069 - val_accuracy: 0.8524\n",
      "Epoch 9/10\n",
      " 73/144 [==============>...............] - ETA: 1:26 - loss: 0.0041 - accuracy: 0.9996"
     ]
    }
   ],
   "source": [
    "#training_images, test_images = training_images / 255.0, test_images / 255.0\n",
    "\n",
    "model.compile(\n",
    "    optimizer='adam',\n",
    "    loss=tf.keras.losses.SparseCategoricalCrossentropy(from_logits=True),\n",
    "    # SparseCategoricalCrossentropy uses numbered labels instead of hot encoding (https://towardsdatascience.com/building-a-one-hot-encoding-layer-with-tensorflow-f907d686bf39)\n",
    "    metrics=['accuracy']\n",
    ")\n",
    "\n",
    "history = model.fit(\n",
    "    training_images, training_labels,\n",
    "    epochs=10,\n",
    "    validation_data=(test_images, test_labels)\n",
    ")"
   ]
  },
  {
   "cell_type": "markdown",
   "metadata": {
    "collapsed": false
   },
   "source": [
    "## Export model"
   ]
  },
  {
   "cell_type": "code",
   "execution_count": 1,
   "metadata": {
    "collapsed": false,
    "pycharm": {
     "name": "#%%\n"
    }
   },
   "outputs": [
    {
     "ename": "NameError",
     "evalue": "name 'model' is not defined",
     "output_type": "error",
     "traceback": [
      "\u001b[0;31m---------------------------------------------------------------------------\u001b[0m",
      "\u001b[0;31mNameError\u001b[0m                                 Traceback (most recent call last)",
      "\u001b[0;32m<ipython-input-1-e637729b6fba>\u001b[0m in \u001b[0;36m<module>\u001b[0;34m\u001b[0m\n\u001b[0;32m----> 1\u001b[0;31m \u001b[0mmodel\u001b[0m\u001b[0;34m.\u001b[0m\u001b[0msave_weights\u001b[0m\u001b[0;34m(\u001b[0m\u001b[0;34m'./models/simpsons'\u001b[0m\u001b[0;34m)\u001b[0m\u001b[0;34m\u001b[0m\u001b[0;34m\u001b[0m\u001b[0m\n\u001b[0m",
      "\u001b[0;31mNameError\u001b[0m: name 'model' is not defined"
     ]
    }
   ],
   "source": [
    "model.save_weights('./models/simpsons')"
   ]
  },
  {
   "cell_type": "markdown",
   "metadata": {
    "collapsed": false
   },
   "source": [
    "## Visualise the Network"
   ]
  },
  {
   "cell_type": "code",
   "execution_count": null,
   "metadata": {
    "collapsed": false,
    "pycharm": {
     "name": "#%%\n"
    }
   },
   "outputs": [
    {
     "data": {
      "text/plain": [
       "[<matplotlib.lines.Line2D at 0x7f50666c7820>]"
      ]
     },
     "execution_count": 107,
     "metadata": {},
     "output_type": "execute_result"
    },
    {
     "data": {
      "text/plain": [
       "[<matplotlib.lines.Line2D at 0x7f50666c7c10>]"
      ]
     },
     "execution_count": 107,
     "metadata": {},
     "output_type": "execute_result"
    },
    {
     "data": {
      "text/plain": [
       "Text(0.5, 0, 'Epoch')"
      ]
     },
     "execution_count": 107,
     "metadata": {},
     "output_type": "execute_result"
    },
    {
     "data": {
      "text/plain": [
       "Text(0, 0.5, 'Accuracy')"
      ]
     },
     "execution_count": 107,
     "metadata": {},
     "output_type": "execute_result"
    },
    {
     "data": {
      "text/plain": [
       "(0.0, 1.0)"
      ]
     },
     "execution_count": 107,
     "metadata": {},
     "output_type": "execute_result"
    },
    {
     "data": {
      "text/plain": [
       "<matplotlib.legend.Legend at 0x7f50666c7fd0>"
      ]
     },
     "execution_count": 107,
     "metadata": {},
     "output_type": "execute_result"
    },
    {
     "name": "stdout",
     "output_type": "stream",
     "text": [
      "57/57 - 10s - loss: 1.0618 - accuracy: 0.7050\n"
     ]
    },
    {
     "data": {
      "image/png": "[encoded data removed]",
      "text/plain": [
       "<Figure size 432x288 with 1 Axes>"
      ]
     },
     "metadata": {
      "needs_background": "light"
     },
     "output_type": "display_data"
    }
   ],
   "source": [
    "plt.plot(history.history['accuracy'], label='Training Accuracy')\n",
    "plt.plot(history.history['val_accuracy'], label='Validation Accuracy')\n",
    "plt.xlabel('Epoch')\n",
    "plt.ylabel('Accuracy')\n",
    "plt.ylim([0, 1])\n",
    "plt.legend(loc='lower left', bbox_to_anchor=(1.05, 0))\n",
    "plt.tight_layout()\n",
    "plt.savefig(\"accuracy.png\", dpi=300)\n",
    "test_loss, test_acc = model.evaluate(test_images, test_labels, verbose=2)"
   ]
  },
  {
   "cell_type": "code",
   "execution_count": null,
   "metadata": {
    "collapsed": false,
    "pycharm": {
     "name": "#%%\n"
    }
   },
   "outputs": [
    {
     "data": {
      "text/plain": [
       "[<matplotlib.lines.Line2D at 0x7f506669dd30>]"
      ]
     },
     "execution_count": 108,
     "metadata": {},
     "output_type": "execute_result"
    },
    {
     "data": {
      "text/plain": [
       "[<matplotlib.lines.Line2D at 0x7f50666ab160>]"
      ]
     },
     "execution_count": 108,
     "metadata": {},
     "output_type": "execute_result"
    },
    {
     "data": {
      "text/plain": [
       "Text(0.5, 0, 'Epoch')"
      ]
     },
     "execution_count": 108,
     "metadata": {},
     "output_type": "execute_result"
    },
    {
     "data": {
      "text/plain": [
       "Text(0, 0.5, 'Loss')"
      ]
     },
     "execution_count": 108,
     "metadata": {},
     "output_type": "execute_result"
    },
    {
     "data": {
      "text/plain": [
       "(0.0, 2.0)"
      ]
     },
     "execution_count": 108,
     "metadata": {},
     "output_type": "execute_result"
    },
    {
     "data": {
      "text/plain": [
       "<matplotlib.legend.Legend at 0x7f512ff06700>"
      ]
     },
     "execution_count": 108,
     "metadata": {},
     "output_type": "execute_result"
    },
    {
     "data": {
      "image/png": "[encoded data removed]",
      "text/plain": [
       "<Figure size 432x288 with 1 Axes>"
      ]
     },
     "metadata": {
      "needs_background": "light"
     },
     "output_type": "display_data"
    }
   ],
   "source": [
    "plt.plot(history.history['val_loss'], label='Validation Loss')\n",
    "plt.plot(history.history['loss'], label='Training Loss')\n",
    "plt.xlabel('Epoch')\n",
    "plt.ylabel('Loss')\n",
    "plt.ylim([0, 2])\n",
    "plt.legend(loc='lower left', bbox_to_anchor=(1.05, 0))\n",
    "plt.tight_layout()\n",
    "plt.savefig(\"loss.png\", dpi=300)"
   ]
  },
  {
   "cell_type": "markdown",
   "metadata": {
    "collapsed": false
   },
   "source": [
    "## Load the test dataset"
   ]
  },
  {
   "cell_type": "code",
   "execution_count": null,
   "metadata": {
    "collapsed": false,
    "pycharm": {
     "name": "#%%\n"
    }
   },
   "outputs": [],
   "source": [
    "def load_test_set():\n",
    "    pics, labels = [], []\n",
    "    for all_test_pictures in glob.glob(directories[\"testset\"] + '*.jpg'):\n",
    "        file_name = all_test_pictures.split(\"/\")[\n",
    "            -1]  # './data/archive/kaggle_simpson_testset/kaggle_simpson_testset/principal_skinner_34.jpg'\n",
    "        character_name_with_number = file_name.split(\".jpg\")[-2]  # 'principal_skinner_34'\n",
    "        character_name_clean = character_name_with_number.rsplit('_', 1)[0]  # 'principal_skinner'\n",
    "\n",
    "        if character_name_clean in selected_characters:\n",
    "            character_label = encoded_labels.transform([character_name_clean])\n",
    "            temp = get_resized_image(all_test_pictures)\n",
    "            pics.append(temp)\n",
    "            labels.append(character_label)\n",
    "    x_test = np.array(pics)\n",
    "    y_test = np.array(labels)\n",
    "    print(\"Test set\", x_test.shape, y_test.shape)\n",
    "    return x_test, y_test"
   ]
  },
  {
   "cell_type": "code",
   "execution_count": null,
   "metadata": {
    "collapsed": false,
    "pycharm": {
     "name": "#%%\n"
    }
   },
   "outputs": [
    {
     "name": "stdout",
     "output_type": "stream",
     "text": [
      "Test set (495, 352, 352, 3) (495, 1)\n"
     ]
    }
   ],
   "source": [
    "x_test, y_test = load_test_set()\n",
    "prediction = model.predict(x_test)"
   ]
  },
  {
   "cell_type": "markdown",
   "metadata": {
    "collapsed": false
   },
   "source": [
    "## Confusion Matrix"
   ]
  },
  {
   "cell_type": "code",
   "execution_count": null,
   "metadata": {
    "collapsed": false,
    "pycharm": {
     "name": "#%%\n"
    }
   },
   "outputs": [
    {
     "data": {
      "text/plain": [
       "<Figure size 720x720 with 0 Axes>"
      ]
     },
     "execution_count": 111,
     "metadata": {},
     "output_type": "execute_result"
    },
    {
     "data": {
      "text/plain": [
       "Text(0, 0.5, 'True label')"
      ]
     },
     "execution_count": 111,
     "metadata": {},
     "output_type": "execute_result"
    },
    {
     "data": {
      "text/plain": [
       "Text(0.5, 0, 'Predicted label')"
      ]
     },
     "execution_count": 111,
     "metadata": {},
     "output_type": "execute_result"
    },
    {
     "data": {
      "text/plain": [
       "<matplotlib.image.AxesImage at 0x7f506663da60>"
      ]
     },
     "execution_count": 111,
     "metadata": {},
     "output_type": "execute_result"
    },
    {
     "data": {
      "text/plain": [
       "<matplotlib.colorbar.Colorbar at 0x7f5066614a30>"
      ]
     },
     "execution_count": 111,
     "metadata": {},
     "output_type": "execute_result"
    },
    {
     "data": {
      "image/png": "[encoded data removed]",
      "text/plain": [
       "<Figure size 720x720 with 2 Axes>"
      ]
     },
     "metadata": {
      "needs_background": "light"
     },
     "output_type": "display_data"
    }
   ],
   "source": [
    "plt.figure(figsize=(10, 10))\n",
    "labels = list(encoded_labels.classes_)\n",
    "cm = metrics.confusion_matrix(y_test, np.argmax(prediction, axis=1))\n",
    "tick_marks = np.arange(len(labels))\n",
    "plt.tight_layout()\n",
    "plt.ylabel('True label')\n",
    "plt.xlabel('Predicted label')\n",
    "plt.imshow(cm, interpolation='nearest', cmap=plt.cm.tab20)\n",
    "plt.colorbar()\n",
    "_ = plt.xticks(tick_marks, labels, rotation=90)\n",
    "_ = plt.yticks(tick_marks, labels)\n",
    "plt.savefig(\"confusion_matrix.png\", dpi=300)\n",
    "#p = metrics.ConfusionMatrixDisplay(cm, display_labels=labels).plot()"
   ]
  },
  {
   "cell_type": "markdown",
   "metadata": {
    "collapsed": false
   },
   "source": [
    "## Simple Predictions"
   ]
  },
  {
   "cell_type": "code",
   "execution_count": null,
   "metadata": {
    "collapsed": false,
    "pycharm": {
     "name": "#%%\n"
    }
   },
   "outputs": [
    {
     "name": "stdout",
     "output_type": "stream",
     "text": [
      "Randomly chosen character: principal_skinner\n",
      "This image most likely belongs to principal_skinner with a 85.09 percent confidence.\n"
     ]
    }
   ],
   "source": [
    "prediction_images = []\n",
    "\n",
    "random_choice = random.choice(selected_characters)\n",
    "random_number = random.randint(0,30)\n",
    "\n",
    "current_character_picture = get_resized_image(directories[\"testset\"] + random_choice + \"_\" + str(random_number) + \".jpg\")\n",
    "\n",
    "#im = current_character_picture / 255.0\n",
    "#img_array = tf.expand_dims(im, 0)  # Create a batch\n",
    "\n",
    "img_array = tf.expand_dims(current_character_picture, 0)  # Create a batch\n",
    "\n",
    "predictions = model.predict(img_array)\n",
    "score = tf.nn.softmax(predictions[0])\n",
    "\n",
    "#print(predictions[0])\n",
    "#print(score)\n",
    "\n",
    "#print(100 * np.max(score))\n",
    "\n",
    "#print(np.argmax(predictions))\n",
    "#print([labels[i] for i,prob in enumerate(predictions) if prob > 0.5])\n",
    "print(\"Randomly chosen character: \" + random_choice)\n",
    "print(\n",
    "    \"This image most likely belongs to {} with a {:.2f} percent confidence.\"\n",
    "        .format(encoded_labels.inverse_transform([np.argmax(score)])[0], 100 * np.max(score))\n",
    ")"
   ]
  },
  {
   "cell_type": "markdown",
   "metadata": {
    "collapsed": false
   },
   "source": []
  }
 ],
 "metadata": {
  "kernelspec": {
   "display_name": "Python 3",
   "language": "python",
   "name": "python3"
  },
  "language_info": {
   "codemirror_mode": {
    "name": "ipython",
    "version": 3
   },
   "file_extension": ".py",
   "mimetype": "text/x-python",
   "name": "python",
   "nbconvert_exporter": "python",
   "pygments_lexer": "ipython3",
   "version": "3.8.8"
  }
 },
 "nbformat": 4,
 "nbformat_minor": 0
}
